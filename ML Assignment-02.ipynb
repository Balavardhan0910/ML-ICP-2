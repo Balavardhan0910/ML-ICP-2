{
  "nbformat": 4,
  "nbformat_minor": 0,
  "metadata": {
    "colab": {
      "provenance": []
    },
    "kernelspec": {
      "name": "python3",
      "display_name": "Python 3"
    },
    "language_info": {
      "name": "python"
    }
  },
  "cells": [
    {
      "cell_type": "code",
      "execution_count": null,
      "metadata": {
        "id": "JOV58AY9Sta4"
      },
      "outputs": [],
      "source": [
        "## Q1.\n",
        "\n",
        "def star_pattern(n):\n",
        "    # Upper part of the pattern\n",
        "    for i in range(1, n + 1):\n",
        "        for j in range(i):\n",
        "            print('*', end=' ')\n",
        "        print()\n",
        "\n",
        "    # Lower part of the pattern\n",
        "    for i in range(n - 1, 0, -1):\n",
        "        for j in range(i):\n",
        "            print('*', end=' ')\n",
        "        print()\n",
        "\n",
        "# Example usage\n",
        "star_pattern(5)\n"
      ]
    },
    {
      "cell_type": "code",
      "source": [
        "## Q2\n",
        "\n",
        "def print_odd_index_elements(my_list):\n",
        "    for i in range(1, len(my_list), 2):\n",
        "        print(my_list[i])\n",
        "\n",
        "# Example usage\n",
        "my_list = [10, 20, 30, 40, 50, 60, 70, 80, 90, 100]\n",
        "print_odd_index_elements(my_list)\n"
      ],
      "metadata": {
        "id": "MeTiVyajS-xZ"
      },
      "execution_count": null,
      "outputs": []
    },
    {
      "cell_type": "code",
      "source": [
        "## Q3\n",
        "\n",
        "\n",
        "x = [23, 'Python', 23.98]\n",
        "print(x)\n",
        "\n",
        "# Creating a list of the types of the elements in x\n",
        "types_list = [type(element) for element in x]\n",
        "\n",
        "print(types_list)\n"
      ],
      "metadata": {
        "id": "qMjXiEjrTT0e"
      },
      "execution_count": null,
      "outputs": []
    },
    {
      "cell_type": "code",
      "source": [
        "## Q4\n",
        "\n",
        "def get_unique_items(input_list):\n",
        "    unique_list = []\n",
        "    for item in input_list:\n",
        "        if item not in unique_list:\n",
        "            unique_list.append(item)\n",
        "    return unique_list\n",
        "\n",
        "sample_list = [1, 2, 3, 3, 3, 3, 4, 5]\n",
        "unique_list = get_unique_items(sample_list)\n",
        "print(\"Sample List:\", sample_list)\n",
        "print(\"Unique List:\", unique_list)\n"
      ],
      "metadata": {
        "id": "750AOogjTr_e"
      },
      "execution_count": null,
      "outputs": []
    },
    {
      "cell_type": "code",
      "source": [
        " ## Q5\n",
        "\n",
        " def count_case_characters(input_string):\n",
        "    upper_count = 0\n",
        "    lower_count = 0\n",
        "\n",
        "    for char in input_string:\n",
        "        if char.isupper():\n",
        "            upper_count += 1\n",
        "        elif char.islower():\n",
        "            lower_count += 1\n",
        "\n",
        "    return upper_count, lower_count\n",
        "\n",
        "\n",
        "input_string = 'The quick Brow Fox'\n",
        "upper_count, lower_count = count_case_characters(input_string)\n",
        "print(\"No. of Upper-case characters:\", upper_count)\n",
        "print(\"No. of Lower-case Characters:\", lower_count)\n"
      ],
      "metadata": {
        "id": "CiH_UvF1UN56"
      },
      "execution_count": null,
      "outputs": []
    }
  ]
}